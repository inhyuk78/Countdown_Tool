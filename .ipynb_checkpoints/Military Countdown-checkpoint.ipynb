{
 "cells": [
  {
   "cell_type": "code",
   "execution_count": 49,
   "id": "b4bf8d7d-54ff-4f85-b5a5-ebe6f90e56b8",
   "metadata": {},
   "outputs": [],
   "source": [
    "import pandas as pd\n"
   ]
  },
  {
   "cell_type": "code",
   "execution_count": 6,
   "id": "0e93e733-8736-4a88-b97b-aa704ce479d9",
   "metadata": {},
   "outputs": [
    {
     "data": {
      "text/plain": [
       "Timestamp('2025-12-01 14:00:00')"
      ]
     },
     "execution_count": 6,
     "metadata": {},
     "output_type": "execute_result"
    }
   ],
   "source": [
    "# Creating enlistment date timestamp\n",
    "\n",
    "enlistment_date = pd.Timestamp('2025-12-01 2:00PM')\n",
    "enlistment_date"
   ]
  },
  {
   "cell_type": "code",
   "execution_count": 1,
   "id": "34684438-153e-4f03-a1ce-90834313ddeb",
   "metadata": {},
   "outputs": [
    {
     "ename": "NameError",
     "evalue": "name 'pd' is not defined",
     "output_type": "error",
     "traceback": [
      "\u001b[0;31m---------------------------------------------------------------------------\u001b[0m",
      "\u001b[0;31mNameError\u001b[0m                                 Traceback (most recent call last)",
      "Cell \u001b[0;32mIn[1], line 1\u001b[0m\n\u001b[0;32m----> 1\u001b[0m date_now \u001b[38;5;241m=\u001b[39m pd\u001b[38;5;241m.\u001b[39mTimestamp\u001b[38;5;241m.\u001b[39mnow()\n\u001b[1;32m      2\u001b[0m date_now\n",
      "\u001b[0;31mNameError\u001b[0m: name 'pd' is not defined"
     ]
    }
   ],
   "source": [
    "date_now = pd.Timestamp.now()\n",
    "date_now"
   ]
  },
  {
   "cell_type": "code",
   "execution_count": null,
   "id": "39f0a095-e1b1-4133-98de-30ce96a9be93",
   "metadata": {},
   "outputs": [],
   "source": [
    "def countdown_timer():\n",
    "    while True:\n",
    "        try:\n",
    "            final_date = pd.to_datetime(input('Enter final date: '))\n",
    "            if isinstance(final_date, pd.Timestamp):\n",
    "                break\n",
    "            else:\n",
    "                print('Please enter a valid date: ')\n",
    "        except Exception as e:\n",
    "            print(f'Error {e} has occurred. Please try again.')\n",
    "\n",
    "    while True:\n",
    "        try:\n",
    "            choice = input(int(\"Would you like to enter a specific date or use current date? Enter (1: Specific date, 2: Today's date): \"))\n",
    "            if choice == 1:\n",
    "                specific_date = choice_specific_date()\n",
    "                countdown_from_specific = specific_date - final_date\n",
    "                print(f'From {specific_date} to {final_date}, you have {countdown_from_specific} left')\n",
    "                break\n",
    "\n",
    "            elif choice == 2:\n",
    "                current_date = pd.timestamp.now()\n",
    "                countdown_from_current = current_date - final_date\n",
    "                print(f'From now ({current_date}) to {final_date}, you have {countdown_from_current}')\n",
    "                break\n",
    "                \n",
    "        except Exception as e:\n",
    "            print(f'Error {e} has occurred. Please try again.')\n",
    "\n",
    "def choice_specific_date():\n",
    "    try:\n",
    "        specific_date = pd.to_datetime(input('Enter specific date here: '))\n",
    "        if isinstance(specific_date, pd.Timestamp):\n",
    "            return specific_date\n",
    "        else:\n",
    "            print('Please enter a valid date: ')\n",
    "    \n",
    "    except Exception as e:\n",
    "        print(f'Error {e} has occurred. Please try again.')"
   ]
  },
  {
   "cell_type": "code",
   "execution_count": null,
   "id": "f1d77fed-1f0d-43c0-a956-a535e0aa5cb9",
   "metadata": {},
   "outputs": [],
   "source": [
    "countdown_timer()"
   ]
  },
  {
   "cell_type": "code",
   "execution_count": null,
   "id": "451585dc-fb0e-4e3a-b585-b7b3333b7ee2",
   "metadata": {},
   "outputs": [],
   "source": []
  },
  {
   "cell_type": "code",
   "execution_count": null,
   "id": "d22f90cd-5013-4a37-830e-66844eb79402",
   "metadata": {},
   "outputs": [],
   "source": []
  }
 ],
 "metadata": {
  "kernelspec": {
   "display_name": "Python 3 (ipykernel)",
   "language": "python",
   "name": "python3"
  },
  "language_info": {
   "codemirror_mode": {
    "name": "ipython",
    "version": 3
   },
   "file_extension": ".py",
   "mimetype": "text/x-python",
   "name": "python",
   "nbconvert_exporter": "python",
   "pygments_lexer": "ipython3",
   "version": "3.13.5"
  }
 },
 "nbformat": 4,
 "nbformat_minor": 5
}
